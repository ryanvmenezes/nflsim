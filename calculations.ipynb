{
 "cells": [
  {
   "cell_type": "markdown",
   "metadata": {},
   "source": [
    "Given two teams' SRS ratings:\n",
    "* Generate random normal variable\n",
    "* "
   ]
  },
  {
   "cell_type": "code",
   "execution_count": 1,
   "metadata": {
    "collapsed": true
   },
   "outputs": [],
   "source": [
    "import pandas as pd\n",
    "import numpy as np\n",
    "import scipy as sp\n",
    "import matplotlib.pyplot as plt\n",
    "from __future__ import division\n",
    "%load_ext rpy2.ipython\n",
    "%matplotlib inline\n",
    "pd.set_option('display.max_columns', 1000)"
   ]
  },
  {
   "cell_type": "code",
   "execution_count": 11,
   "metadata": {
    "collapsed": false
   },
   "outputs": [
    {
     "data": {
      "text/html": [
       "<div>\n",
       "<table border=\"1\" class=\"dataframe\">\n",
       "  <thead>\n",
       "    <tr style=\"text-align: right;\">\n",
       "      <th></th>\n",
       "      <th>Year</th>\n",
       "      <th>Tm</th>\n",
       "      <th>W</th>\n",
       "      <th>L</th>\n",
       "      <th>T</th>\n",
       "      <th>MoV</th>\n",
       "      <th>SoS</th>\n",
       "      <th>SRS</th>\n",
       "      <th>OSRS</th>\n",
       "      <th>DSRS</th>\n",
       "    </tr>\n",
       "  </thead>\n",
       "  <tbody>\n",
       "    <tr>\n",
       "      <th>0</th>\n",
       "      <td>2015</td>\n",
       "      <td>St. Louis Rams</td>\n",
       "      <td>7</td>\n",
       "      <td>9</td>\n",
       "      <td>0</td>\n",
       "      <td>-3.1</td>\n",
       "      <td>3.0</td>\n",
       "      <td>-0.2</td>\n",
       "      <td>-3.8</td>\n",
       "      <td>3.6</td>\n",
       "    </tr>\n",
       "    <tr>\n",
       "      <th>1</th>\n",
       "      <td>2014</td>\n",
       "      <td>St. Louis Rams</td>\n",
       "      <td>6</td>\n",
       "      <td>10</td>\n",
       "      <td>0</td>\n",
       "      <td>-1.9</td>\n",
       "      <td>1.0</td>\n",
       "      <td>-0.8</td>\n",
       "      <td>-1.2</td>\n",
       "      <td>0.4</td>\n",
       "    </tr>\n",
       "    <tr>\n",
       "      <th>2</th>\n",
       "      <td>2013</td>\n",
       "      <td>St. Louis Rams</td>\n",
       "      <td>7</td>\n",
       "      <td>9</td>\n",
       "      <td>0</td>\n",
       "      <td>-1.0</td>\n",
       "      <td>3.2</td>\n",
       "      <td>2.2</td>\n",
       "      <td>0.4</td>\n",
       "      <td>1.8</td>\n",
       "    </tr>\n",
       "    <tr>\n",
       "      <th>3</th>\n",
       "      <td>2012</td>\n",
       "      <td>St. Louis Rams</td>\n",
       "      <td>7</td>\n",
       "      <td>8</td>\n",
       "      <td>1</td>\n",
       "      <td>-3.1</td>\n",
       "      <td>3.4</td>\n",
       "      <td>0.4</td>\n",
       "      <td>-2.1</td>\n",
       "      <td>2.4</td>\n",
       "    </tr>\n",
       "    <tr>\n",
       "      <th>4</th>\n",
       "      <td>2011</td>\n",
       "      <td>St. Louis Rams</td>\n",
       "      <td>2</td>\n",
       "      <td>14</td>\n",
       "      <td>0</td>\n",
       "      <td>-13.4</td>\n",
       "      <td>2.9</td>\n",
       "      <td>-10.4</td>\n",
       "      <td>-8.4</td>\n",
       "      <td>-2.1</td>\n",
       "    </tr>\n",
       "  </tbody>\n",
       "</table>\n",
       "</div>"
      ],
      "text/plain": [
       "   Year              Tm  W   L  T   MoV  SoS   SRS  OSRS  DSRS\n",
       "0  2015  St. Louis Rams  7   9  0  -3.1  3.0  -0.2  -3.8   3.6\n",
       "1  2014  St. Louis Rams  6  10  0  -1.9  1.0  -0.8  -1.2   0.4\n",
       "2  2013  St. Louis Rams  7   9  0  -1.0  3.2   2.2   0.4   1.8\n",
       "3  2012  St. Louis Rams  7   8  1  -3.1  3.4   0.4  -2.1   2.4\n",
       "4  2011  St. Louis Rams  2  14  0 -13.4  2.9 -10.4  -8.4  -2.1"
      ]
     },
     "execution_count": 11,
     "metadata": {},
     "output_type": "execute_result"
    }
   ],
   "source": [
    "RAMS = pd.read_csv('teams_ram__team_index.csv', skiprows=2)\n",
    "rams = RAMS[['Year','Tm','W','L','T','MoV','SoS','SRS','OSRS','DSRS']]\n",
    "rams.head()"
   ]
  },
  {
   "cell_type": "code",
   "execution_count": 144,
   "metadata": {
    "collapsed": false
   },
   "outputs": [],
   "source": [
    "def game_sim(homeyear, awayyear, p=True):\n",
    "    '''\n",
    "    Takes a home and away team SRS and spits out a normal random variable\n",
    "    '''\n",
    "    homerow = rams[rams['Year'] == homeyear]\n",
    "    awayrow = rams[rams['Year'] == awayyear]\n",
    "    try:\n",
    "        srshome = float(homerow['SRS'])\n",
    "    except TypeError:\n",
    "        print \"No home team for {}\".format(homeyear)\n",
    "        return None\n",
    "    \n",
    "    try:\n",
    "        srsaway = float(awayrow['SRS'])\n",
    "    except TypeError:\n",
    "        print \"No away team for {}\".format(awayyear)\n",
    "        return None\n",
    "    \n",
    "    pointdiff = srshome - srsaway\n",
    "    result = np.random.normal(pointdiff, 13.45)\n",
    "    if p:\n",
    "        print \"Matchup:\"\n",
    "        print \"Home team: {} ({}-{}-{}) SRS {}\".format(\n",
    "            int(homerow['Year']),\n",
    "            int(homerow['W']),\n",
    "            int(homerow['L']),\n",
    "            int(homerow['T']),\n",
    "            srshome\n",
    "        )\n",
    "        print \"Away team: {} ({}-{}-{}) SRS {}\".format(\n",
    "            int(awayrow['Year']),\n",
    "            int(awayrow['W']),\n",
    "            int(awayrow['L']),\n",
    "            int(awayrow['T']),\n",
    "            srsaway\n",
    "        )\n",
    "\n",
    "        print ('Home team' if pointdiff > 0 else 'Away team') + ' favored by {}'.format(int(abs(round(pointdiff))))\n",
    "        print 'Simulating ...'\n",
    "        print ('Home team' if result > 0 else 'Away team') + ' won by {}'.format(int(abs(round(result))))\n",
    "        return None\n",
    "    return result"
   ]
  },
  {
   "cell_type": "code",
   "execution_count": 155,
   "metadata": {
    "collapsed": false
   },
   "outputs": [
    {
     "name": "stdout",
     "output_type": "stream",
     "text": [
      "Matchup:\n",
      "Home team: 1989 (11-5-0) SRS 4.6\n",
      "Away team: 2003 (12-4-0) SRS 5.9\n",
      "Away team favored by 1\n",
      "Simulating ...\n",
      "Away team won by 24\n"
     ]
    }
   ],
   "source": [
    "game_sim(1989, 2003)"
   ]
  },
  {
   "cell_type": "code",
   "execution_count": 156,
   "metadata": {
    "collapsed": false
   },
   "outputs": [],
   "source": [
    "sims = [game_sim(1989,2003,False) for _ in range(0,1000)]"
   ]
  },
  {
   "cell_type": "code",
   "execution_count": 157,
   "metadata": {
    "collapsed": false
   },
   "outputs": [
    {
     "data": {
      "text/plain": [
       "(array([   4.,   23.,   82.,  179.,  266.,  233.,  137.,   55.,   18.,    3.]),\n",
       " array([-43.39351251, -34.60220765, -25.81090279, -17.01959793,\n",
       "         -8.22829307,   0.56301179,   9.35431665,  18.14562151,\n",
       "         26.93692637,  35.72823123,  44.51953609]),\n",
       " <a list of 10 Patch objects>)"
      ]
     },
     "execution_count": 157,
     "metadata": {},
     "output_type": "execute_result"
    },
    {
     "data": {
      "image/png": "[encoded data removed]",
      "text/plain": [
       "<matplotlib.figure.Figure at 0x7fae4a7c7e50>"
      ]
     },
     "metadata": {},
     "output_type": "display_data"
    }
   ],
   "source": [
    "plt.hist(sims)"
   ]
  }
 ],
 "metadata": {
  "kernelspec": {
   "display_name": "Python 2",
   "language": "python",
   "name": "python2"
  },
  "language_info": {
   "codemirror_mode": {
    "name": "ipython",
    "version": 2
   },
   "file_extension": ".py",
   "mimetype": "text/x-python",
   "name": "python",
   "nbconvert_exporter": "python",
   "pygments_lexer": "ipython2",
   "version": "2.7.6"
  }
 },
 "nbformat": 4,
 "nbformat_minor": 0
}
