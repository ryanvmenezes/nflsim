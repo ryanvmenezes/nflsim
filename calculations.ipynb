{
 "cells": [
  {
   "cell_type": "markdown",
   "metadata": {},
   "source": [
    "Given two teams' SRS ratings:\n",
    "* Generate random normal variable\n",
    "* "
   ]
  },
  {
   "cell_type": "code",
   "execution_count": 1,
   "metadata": {
    "collapsed": true
   },
   "outputs": [],
   "source": [
    "import pandas as pd\n",
    "import numpy as np\n",
    "import scipy as sp\n",
    "import matplotlib.pyplot as plt\n",
    "from __future__ import division\n",
    "%load_ext rpy2.ipython\n",
    "%matplotlib inline\n",
    "pd.set_option('display.max_columns', 1000)"
   ]
  },
  {
   "cell_type": "code",
   "execution_count": 6,
   "metadata": {
    "collapsed": false
   },
   "outputs": [
    {
     "data": {
      "text/html": [
       "<div>\n",
       "<table border=\"1\" class=\"dataframe\">\n",
       "  <thead>\n",
       "    <tr style=\"text-align: right;\">\n",
       "      <th></th>\n",
       "      <th>Year</th>\n",
       "      <th>Tm</th>\n",
       "      <th>MoV</th>\n",
       "      <th>SoS</th>\n",
       "      <th>SRS</th>\n",
       "      <th>OSRS</th>\n",
       "      <th>DSRS</th>\n",
       "    </tr>\n",
       "  </thead>\n",
       "  <tbody>\n",
       "    <tr>\n",
       "      <th>0</th>\n",
       "      <td>2015</td>\n",
       "      <td>St. Louis Rams</td>\n",
       "      <td>-3.1</td>\n",
       "      <td>3.0</td>\n",
       "      <td>-0.2</td>\n",
       "      <td>-3.8</td>\n",
       "      <td>3.6</td>\n",
       "    </tr>\n",
       "    <tr>\n",
       "      <th>1</th>\n",
       "      <td>2014</td>\n",
       "      <td>St. Louis Rams</td>\n",
       "      <td>-1.9</td>\n",
       "      <td>1.0</td>\n",
       "      <td>-0.8</td>\n",
       "      <td>-1.2</td>\n",
       "      <td>0.4</td>\n",
       "    </tr>\n",
       "    <tr>\n",
       "      <th>2</th>\n",
       "      <td>2013</td>\n",
       "      <td>St. Louis Rams</td>\n",
       "      <td>-1.0</td>\n",
       "      <td>3.2</td>\n",
       "      <td>2.2</td>\n",
       "      <td>0.4</td>\n",
       "      <td>1.8</td>\n",
       "    </tr>\n",
       "    <tr>\n",
       "      <th>3</th>\n",
       "      <td>2012</td>\n",
       "      <td>St. Louis Rams</td>\n",
       "      <td>-3.1</td>\n",
       "      <td>3.4</td>\n",
       "      <td>0.4</td>\n",
       "      <td>-2.1</td>\n",
       "      <td>2.4</td>\n",
       "    </tr>\n",
       "    <tr>\n",
       "      <th>4</th>\n",
       "      <td>2011</td>\n",
       "      <td>St. Louis Rams</td>\n",
       "      <td>-13.4</td>\n",
       "      <td>2.9</td>\n",
       "      <td>-10.4</td>\n",
       "      <td>-8.4</td>\n",
       "      <td>-2.1</td>\n",
       "    </tr>\n",
       "  </tbody>\n",
       "</table>\n",
       "</div>"
      ],
      "text/plain": [
       "   Year              Tm   MoV  SoS   SRS  OSRS  DSRS\n",
       "0  2015  St. Louis Rams  -3.1  3.0  -0.2  -3.8   3.6\n",
       "1  2014  St. Louis Rams  -1.9  1.0  -0.8  -1.2   0.4\n",
       "2  2013  St. Louis Rams  -1.0  3.2   2.2   0.4   1.8\n",
       "3  2012  St. Louis Rams  -3.1  3.4   0.4  -2.1   2.4\n",
       "4  2011  St. Louis Rams -13.4  2.9 -10.4  -8.4  -2.1"
      ]
     },
     "execution_count": 6,
     "metadata": {},
     "output_type": "execute_result"
    }
   ],
   "source": [
    "RAMS = pd.read_csv('teams_ram__team_index.csv', skiprows=2)\n",
    "rams = RAMS[['Year','Tm','MoV','SoS','SRS','OSRS','DSRS']]\n",
    "rams.head()"
   ]
  },
  {
   "cell_type": "code",
   "execution_count": 7,
   "metadata": {
    "collapsed": true
   },
   "outputs": [],
   "source": [
    "def srs_to_normal(homesrs, awaysrs, stddev):\n",
    "    '''\n",
    "    Takes a home and away team SRS and spits out a normal random variable\n",
    "    '''\n"
   ]
  },
  {
   "cell_type": "code",
   "execution_count": 75,
   "metadata": {
    "collapsed": false
   },
   "outputs": [
    {
     "data": {
      "text/plain": [
       "-28.349053189312848"
      ]
     },
     "execution_count": 75,
     "metadata": {},
     "output_type": "execute_result"
    }
   ],
   "source": [
    "np.random.normal(-10.4-0.2, 13.45)"
   ]
  }
 ],
 "metadata": {
  "kernelspec": {
   "display_name": "Python 2",
   "language": "python",
   "name": "python2"
  },
  "language_info": {
   "codemirror_mode": {
    "name": "ipython",
    "version": 2
   },
   "file_extension": ".py",
   "mimetype": "text/x-python",
   "name": "python",
   "nbconvert_exporter": "python",
   "pygments_lexer": "ipython2",
   "version": "2.7.9"
  }
 },
 "nbformat": 4,
 "nbformat_minor": 0
}
